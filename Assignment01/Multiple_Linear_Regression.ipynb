{
 "cells": [
  {
   "cell_type": "markdown",
   "id": "d556ccc3",
   "metadata": {},
   "source": [
    "# ASSIGNMENT 01: MULTIPLE LINEAR REGRESSION"
   ]
  },
  {
   "cell_type": "markdown",
   "id": "4f85b58c",
   "metadata": {},
   "source": [
    "<b>- Name:</b> Salman Abdul Rahim\n",
    "\n",
    "<b>- Roll No:</b> 616"
   ]
  },
  {
   "cell_type": "markdown",
   "id": "923e2ee9",
   "metadata": {},
   "source": [
    "----------"
   ]
  },
  {
   "cell_type": "markdown",
   "id": "501df15c",
   "metadata": {},
   "source": [
    "<b>IMPORTING LIBRARIES"
   ]
  },
  {
   "cell_type": "code",
   "execution_count": 1,
   "id": "e36c9931",
   "metadata": {},
   "outputs": [],
   "source": [
    "import pandas as pd\n",
    "import matplotlib.pyplot as plt\n",
    "import seaborn as sns\n",
    "from sklearn.model_selection import train_test_split\n",
    "from sklearn.linear_model import LinearRegression\n",
    "from sklearn.metrics import mean_squared_error, r2_score"
   ]
  },
  {
   "cell_type": "markdown",
   "id": "b3f28642",
   "metadata": {},
   "source": [
    "<b>READING THE HDF5 FILE"
   ]
  },
  {
   "cell_type": "code",
   "execution_count": 2,
   "id": "4b7dcd09",
   "metadata": {},
   "outputs": [],
   "source": [
    "hdf = pd.HDFStore('E:/Backups/Datasets/hdf_datasets.h5', mode='r')"
   ]
  },
  {
   "cell_type": "markdown",
   "id": "11dbe391",
   "metadata": {},
   "source": [
    "<b>LOADING DATA FROM HDF5 FILE"
   ]
  },
  {
   "cell_type": "code",
   "execution_count": 3,
   "id": "d799176e",
   "metadata": {},
   "outputs": [
    {
     "data": {
      "text/plain": [
       "['/Sales_Data']"
      ]
     },
     "execution_count": 3,
     "metadata": {},
     "output_type": "execute_result"
    }
   ],
   "source": [
    "hdf.keys()"
   ]
  },
  {
   "cell_type": "code",
   "execution_count": 4,
   "id": "85faf203",
   "metadata": {},
   "outputs": [],
   "source": [
    "data = hdf.get('/Sales_Data')"
   ]
  },
  {
   "cell_type": "code",
   "execution_count": 5,
   "id": "76090d35",
   "metadata": {},
   "outputs": [
    {
     "data": {
      "text/plain": [
       "pandas.core.frame.DataFrame"
      ]
     },
     "execution_count": 5,
     "metadata": {},
     "output_type": "execute_result"
    }
   ],
   "source": [
    "type(data)"
   ]
  },
  {
   "cell_type": "code",
   "execution_count": 6,
   "id": "1baea646",
   "metadata": {},
   "outputs": [
    {
     "data": {
      "text/html": [
       "<div>\n",
       "<style scoped>\n",
       "    .dataframe tbody tr th:only-of-type {\n",
       "        vertical-align: middle;\n",
       "    }\n",
       "\n",
       "    .dataframe tbody tr th {\n",
       "        vertical-align: top;\n",
       "    }\n",
       "\n",
       "    .dataframe thead th {\n",
       "        text-align: right;\n",
       "    }\n",
       "</style>\n",
       "<table border=\"1\" class=\"dataframe\">\n",
       "  <thead>\n",
       "    <tr style=\"text-align: right;\">\n",
       "      <th></th>\n",
       "      <th>Jacket</th>\n",
       "      <th>Zipper</th>\n",
       "      <th>Sweater</th>\n",
       "      <th>Sales</th>\n",
       "    </tr>\n",
       "  </thead>\n",
       "  <tbody>\n",
       "    <tr>\n",
       "      <th>0</th>\n",
       "      <td>55.6</td>\n",
       "      <td>66.8</td>\n",
       "      <td>57.9</td>\n",
       "      <td>100.4</td>\n",
       "    </tr>\n",
       "    <tr>\n",
       "      <th>1</th>\n",
       "      <td>50.9</td>\n",
       "      <td>58.3</td>\n",
       "      <td>60.1</td>\n",
       "      <td>102.6</td>\n",
       "    </tr>\n",
       "    <tr>\n",
       "      <th>2</th>\n",
       "      <td>52.7</td>\n",
       "      <td>65.5</td>\n",
       "      <td>62.7</td>\n",
       "      <td>114.8</td>\n",
       "    </tr>\n",
       "    <tr>\n",
       "      <th>3</th>\n",
       "      <td>45.3</td>\n",
       "      <td>52.1</td>\n",
       "      <td>46.8</td>\n",
       "      <td>90.2</td>\n",
       "    </tr>\n",
       "    <tr>\n",
       "      <th>4</th>\n",
       "      <td>46.1</td>\n",
       "      <td>55.2</td>\n",
       "      <td>43.7</td>\n",
       "      <td>97.8</td>\n",
       "    </tr>\n",
       "    <tr>\n",
       "      <th>5</th>\n",
       "      <td>56.9</td>\n",
       "      <td>44.8</td>\n",
       "      <td>51.9</td>\n",
       "      <td>100.3</td>\n",
       "    </tr>\n",
       "    <tr>\n",
       "      <th>6</th>\n",
       "      <td>34.7</td>\n",
       "      <td>41.2</td>\n",
       "      <td>36.8</td>\n",
       "      <td>80.2</td>\n",
       "    </tr>\n",
       "    <tr>\n",
       "      <th>7</th>\n",
       "      <td>37.8</td>\n",
       "      <td>33.5</td>\n",
       "      <td>43.9</td>\n",
       "      <td>91.3</td>\n",
       "    </tr>\n",
       "    <tr>\n",
       "      <th>8</th>\n",
       "      <td>22.6</td>\n",
       "      <td>34.1</td>\n",
       "      <td>34.8</td>\n",
       "      <td>85.7</td>\n",
       "    </tr>\n",
       "    <tr>\n",
       "      <th>9</th>\n",
       "      <td>44.5</td>\n",
       "      <td>51.9</td>\n",
       "      <td>41.8</td>\n",
       "      <td>101.5</td>\n",
       "    </tr>\n",
       "  </tbody>\n",
       "</table>\n",
       "</div>"
      ],
      "text/plain": [
       "   Jacket  Zipper  Sweater  Sales\n",
       "0    55.6    66.8     57.9  100.4\n",
       "1    50.9    58.3     60.1  102.6\n",
       "2    52.7    65.5     62.7  114.8\n",
       "3    45.3    52.1     46.8   90.2\n",
       "4    46.1    55.2     43.7   97.8\n",
       "5    56.9    44.8     51.9  100.3\n",
       "6    34.7    41.2     36.8   80.2\n",
       "7    37.8    33.5     43.9   91.3\n",
       "8    22.6    34.1     34.8   85.7\n",
       "9    44.5    51.9     41.8  101.5"
      ]
     },
     "execution_count": 6,
     "metadata": {},
     "output_type": "execute_result"
    }
   ],
   "source": [
    "data.head(10)"
   ]
  },
  {
   "cell_type": "markdown",
   "id": "c04a898b",
   "metadata": {},
   "source": [
    "<b>SPLITTING DATA IN X & Y"
   ]
  },
  {
   "cell_type": "code",
   "execution_count": 7,
   "id": "6dfb213e",
   "metadata": {},
   "outputs": [],
   "source": [
    "x = data[[\"Jacket\",\"Zipper\",\"Sweater\"]]\n",
    "y = data[\"Sales\"]"
   ]
  },
  {
   "cell_type": "code",
   "execution_count": 8,
   "id": "df8d3ba0",
   "metadata": {},
   "outputs": [
    {
     "data": {
      "text/html": [
       "<div>\n",
       "<style scoped>\n",
       "    .dataframe tbody tr th:only-of-type {\n",
       "        vertical-align: middle;\n",
       "    }\n",
       "\n",
       "    .dataframe tbody tr th {\n",
       "        vertical-align: top;\n",
       "    }\n",
       "\n",
       "    .dataframe thead th {\n",
       "        text-align: right;\n",
       "    }\n",
       "</style>\n",
       "<table border=\"1\" class=\"dataframe\">\n",
       "  <thead>\n",
       "    <tr style=\"text-align: right;\">\n",
       "      <th></th>\n",
       "      <th>Jacket</th>\n",
       "      <th>Zipper</th>\n",
       "      <th>Sweater</th>\n",
       "    </tr>\n",
       "  </thead>\n",
       "  <tbody>\n",
       "    <tr>\n",
       "      <th>0</th>\n",
       "      <td>55.6</td>\n",
       "      <td>66.8</td>\n",
       "      <td>57.9</td>\n",
       "    </tr>\n",
       "    <tr>\n",
       "      <th>1</th>\n",
       "      <td>50.9</td>\n",
       "      <td>58.3</td>\n",
       "      <td>60.1</td>\n",
       "    </tr>\n",
       "    <tr>\n",
       "      <th>2</th>\n",
       "      <td>52.7</td>\n",
       "      <td>65.5</td>\n",
       "      <td>62.7</td>\n",
       "    </tr>\n",
       "    <tr>\n",
       "      <th>3</th>\n",
       "      <td>45.3</td>\n",
       "      <td>52.1</td>\n",
       "      <td>46.8</td>\n",
       "    </tr>\n",
       "    <tr>\n",
       "      <th>4</th>\n",
       "      <td>46.1</td>\n",
       "      <td>55.2</td>\n",
       "      <td>43.7</td>\n",
       "    </tr>\n",
       "  </tbody>\n",
       "</table>\n",
       "</div>"
      ],
      "text/plain": [
       "   Jacket  Zipper  Sweater\n",
       "0    55.6    66.8     57.9\n",
       "1    50.9    58.3     60.1\n",
       "2    52.7    65.5     62.7\n",
       "3    45.3    52.1     46.8\n",
       "4    46.1    55.2     43.7"
      ]
     },
     "execution_count": 8,
     "metadata": {},
     "output_type": "execute_result"
    }
   ],
   "source": [
    "x.head()"
   ]
  },
  {
   "cell_type": "code",
   "execution_count": 9,
   "id": "f37c793a",
   "metadata": {},
   "outputs": [
    {
     "data": {
      "text/plain": [
       "0    100.4\n",
       "1    102.6\n",
       "2    114.8\n",
       "3     90.2\n",
       "4     97.8\n",
       "Name: Sales, dtype: float64"
      ]
     },
     "execution_count": 9,
     "metadata": {},
     "output_type": "execute_result"
    }
   ],
   "source": [
    "y.head()"
   ]
  },
  {
   "cell_type": "markdown",
   "id": "e9456641",
   "metadata": {},
   "source": [
    "<b>MAKING TRAIN AND TEST SETS"
   ]
  },
  {
   "cell_type": "code",
   "execution_count": 67,
   "id": "bfa82823",
   "metadata": {},
   "outputs": [],
   "source": [
    "x_train, x_test, y_train, y_test = train_test_split(x,y, train_size=0.85, random_state=3)"
   ]
  },
  {
   "cell_type": "code",
   "execution_count": 68,
   "id": "5a7dc050",
   "metadata": {},
   "outputs": [
    {
     "name": "stdout",
     "output_type": "stream",
     "text": [
      "(42, 3)\n",
      "(8, 3)\n",
      "(42,)\n",
      "(8,)\n"
     ]
    }
   ],
   "source": [
    "print(x_train.shape)\n",
    "print(x_test.shape)\n",
    "print(y_train.shape)\n",
    "print(y_test.shape)"
   ]
  },
  {
   "cell_type": "markdown",
   "id": "4faae79f",
   "metadata": {},
   "source": [
    "<b>CREATING LINEAR REGRESSION MODEL & FITTING TRAIN SETS"
   ]
  },
  {
   "cell_type": "code",
   "execution_count": 69,
   "id": "b1cb2511",
   "metadata": {},
   "outputs": [
    {
     "data": {
      "text/plain": [
       "LinearRegression()"
      ]
     },
     "execution_count": 69,
     "metadata": {},
     "output_type": "execute_result"
    }
   ],
   "source": [
    "model = LinearRegression()\n",
    "model.fit(x_train, y_train)"
   ]
  },
  {
   "cell_type": "code",
   "execution_count": 70,
   "id": "8d08246e",
   "metadata": {},
   "outputs": [
    {
     "name": "stdout",
     "output_type": "stream",
     "text": [
      "48.89263450498722\n",
      "[ 0.55266173 -0.14022243  0.64238122]\n"
     ]
    }
   ],
   "source": [
    "print(model.intercept_)\n",
    "print(model.coef_)"
   ]
  },
  {
   "cell_type": "markdown",
   "id": "9de583f8",
   "metadata": {},
   "source": [
    "<b>MAKING PREDICTIONS FROM MODEL"
   ]
  },
  {
   "cell_type": "code",
   "execution_count": 71,
   "id": "7e3116b5",
   "metadata": {},
   "outputs": [],
   "source": [
    "y_pred = lr.predict(x_test)"
   ]
  },
  {
   "cell_type": "markdown",
   "id": "77d73cc1",
   "metadata": {},
   "source": [
    "<b>EVALUATING PREDICTIONS"
   ]
  },
  {
   "cell_type": "code",
   "execution_count": 74,
   "id": "149b7f3a",
   "metadata": {},
   "outputs": [
    {
     "name": "stdout",
     "output_type": "stream",
     "text": [
      "Mean Squared Error: 33.73474250036172\n",
      "R2 Score: 91.25832041723493\n"
     ]
    }
   ],
   "source": [
    "mse = mean_squared_error(y_test, y_pred)\n",
    "score = r2_score(y_test, y_pred)\n",
    "print(\"Mean Squared Error:\",mse)\n",
    "print(\"R2 Score:\",score*100)"
   ]
  },
  {
   "cell_type": "markdown",
   "id": "279a81ef",
   "metadata": {},
   "source": [
    "<b>PLOTTING COEFFICIENTS IN A BAR"
   ]
  },
  {
   "cell_type": "code",
   "execution_count": 75,
   "id": "847f71ce",
   "metadata": {},
   "outputs": [
    {
     "data": {
      "image/png": "[encoded data removed]",
      "text/plain": [
       "<Figure size 576x360 with 1 Axes>"
      ]
     },
     "metadata": {
      "needs_background": "light"
     },
     "output_type": "display_data"
    }
   ],
   "source": [
    "coeff = model.coef_\n",
    "plt.figure(figsize=(8,5))\n",
    "plt.bar(x=['Jacket','Zipper','Sweater'], height=coeff, color=['brown','blue','grey'])\n",
    "plt.title('BAR PLOT OF COEFFICIENTS')\n",
    "plt.show()"
   ]
  },
  {
   "cell_type": "markdown",
   "id": "e9a977b2",
   "metadata": {},
   "source": [
    "---------"
   ]
  }
 ],
 "metadata": {
  "kernelspec": {
   "display_name": "Python 3",
   "language": "python",
   "name": "python3"
  },
  "language_info": {
   "codemirror_mode": {
    "name": "ipython",
    "version": 3
   },
   "file_extension": ".py",
   "mimetype": "text/x-python",
   "name": "python",
   "nbconvert_exporter": "python",
   "pygments_lexer": "ipython3",
   "version": "3.8.8"
  }
 },
 "nbformat": 4,
 "nbformat_minor": 5
}
