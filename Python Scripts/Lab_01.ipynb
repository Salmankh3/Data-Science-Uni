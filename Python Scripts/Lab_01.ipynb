{
 "cells": [
  {
   "cell_type": "code",
   "execution_count": 1,
   "metadata": {},
   "outputs": [
    {
     "name": "stdout",
     "output_type": "stream",
     "text": [
      "What is your weight? (Kg) 56\n",
      "What is your height? (Mtr) 1.6\n",
      "Your BMI is 21.874999999999996 which means you are normal\n"
     ]
    }
   ],
   "source": [
    "weight = float(input('What is your weight? (Kg) '))\n",
    "height = float(input('What is your height? (Mtr) '))\n",
    "bmi = weight/(height*height)\n",
    "\n",
    "if bmi <= 18.5:\n",
    "    print('Your BMI is', bmi, 'which means you are underweight')\n",
    "\n",
    "elif 18.5 < bmi < 25:\n",
    "    print('Your BMI is', bmi,'which means you are normal')\n",
    "\n",
    "elif 25 < bmi < 30:\n",
    "    print('your BMI is', bmi,' which means you are overweight')\n",
    "\n",
    "elif bmi > 30:\n",
    "    print('Your BMI is', bmi,'which means you are obese')"
   ]
  },
  {
   "cell_type": "code",
   "execution_count": null,
   "metadata": {},
   "outputs": [],
   "source": []
  }
 ],
 "metadata": {
  "kernelspec": {
   "display_name": "Python 3",
   "language": "python",
   "name": "python3"
  },
  "language_info": {
   "codemirror_mode": {
    "name": "ipython",
    "version": 3
   },
   "file_extension": ".py",
   "mimetype": "text/x-python",
   "name": "python",
   "nbconvert_exporter": "python",
   "pygments_lexer": "ipython3",
   "version": "3.7.0"
  }
 },
 "nbformat": 4,
 "nbformat_minor": 2
}
