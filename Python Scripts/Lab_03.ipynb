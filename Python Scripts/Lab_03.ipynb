{
 "cells": [
  {
   "cell_type": "code",
   "execution_count": 14,
   "metadata": {},
   "outputs": [
    {
     "name": "stdout",
     "output_type": "stream",
     "text": [
      "Input a word to reverse: Salmankh3\n",
      "Your Reversed String is: \n",
      "3hknamlaS"
     ]
    }
   ],
   "source": [
    "# Task 01\n",
    "\n",
    "a = input(\"Input a word to reverse: \")\n",
    "\n",
    "print(\"Your Reversed String is: \")\n",
    "for i in range(len(a) - 1, -1, -1):\n",
    "    print(a[i], end=\"\")"
   ]
  },
  {
   "cell_type": "code",
   "execution_count": 8,
   "metadata": {},
   "outputs": [
    {
     "name": "stdout",
     "output_type": "stream",
     "text": [
      "Your Sequence:  (1, 2, 3, 4, 5, 6, 7, 8, 9)\n",
      "\n",
      "Number of even numbers : 4\n",
      "Number of odd numbers : 5\n"
     ]
    }
   ],
   "source": [
    "# Task 02\n",
    "\n",
    "n = (1, 2, 3, 4, 5, 6, 7, 8, 9) \n",
    "odd = 0\n",
    "even = 0\n",
    "for i in n:\n",
    "    if not i % 2:\n",
    "        even+=1\n",
    "    else:\n",
    "        odd+=1\n",
    "\n",
    "print(\"Your Sequence: \",n)\n",
    "print(\"\\nNumber of even numbers :\",even)\n",
    "print(\"Number of odd numbers :\",odd)\n"
   ]
  },
  {
   "cell_type": "code",
   "execution_count": 12,
   "metadata": {},
   "outputs": [
    {
     "name": "stdout",
     "output_type": "stream",
     "text": [
      "Input Your Password: @KhatriSalman572\n",
      "Valid Password\n"
     ]
    }
   ],
   "source": [
    "# Task 03\n",
    "\n",
    "import re\n",
    "key = input(\"Input Your Password: \")\n",
    "a = True\n",
    "while a:  \n",
    "    if (len(key)<6 or len(key)>16):\n",
    "        break\n",
    "    elif not re.search(\"[a-z]\",key):\n",
    "        break\n",
    "    elif not re.search(\"[0-9]\",key):\n",
    "        break\n",
    "    elif not re.search(\"[A-Z]\",key):\n",
    "        break\n",
    "    elif not re.search(\"[$#@]\",key):\n",
    "        break\n",
    "    elif re.search(\"\\s\",key):\n",
    "        break\n",
    "    else:\n",
    "        print(\"Valid Password\")\n",
    "        a=False\n",
    "        break\n",
    "\n",
    "if a:\n",
    "    print(\"Not a Valid Password\")"
   ]
  }
 ],
 "metadata": {
  "kernelspec": {
   "display_name": "Python 3",
   "language": "python",
   "name": "python3"
  },
  "language_info": {
   "codemirror_mode": {
    "name": "ipython",
    "version": 3
   },
   "file_extension": ".py",
   "mimetype": "text/x-python",
   "name": "python",
   "nbconvert_exporter": "python",
   "pygments_lexer": "ipython3",
   "version": "3.7.0"
  }
 },
 "nbformat": 4,
 "nbformat_minor": 2
}
