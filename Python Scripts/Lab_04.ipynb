{
  "nbformat": 4,
  "nbformat_minor": 0,
  "metadata": {
    "colab": {
      "name": "Lab_04.ipynb",
      "provenance": []
    },
    "kernelspec": {
      "name": "python3",
      "display_name": "Python 3"
    },
    "language_info": {
      "name": "python"
    }
  },
  "cells": [
    {
      "cell_type": "code",
      "metadata": {
        "colab": {
          "base_uri": "https://localhost:8080/"
        },
        "id": "hhNioWe6oEe_",
        "outputId": "d06a8fec-c5e8-4441-ed17-60dc86804caa"
      },
      "source": [
        "# TASK 01 \n",
        "\n",
        "dic = {'Name': 'Salman', 'Department': 'CS'}\n",
        "print('Original Dictionary: ',dic)\n",
        "dic['Batch'] = '9th'\n",
        "print('After Update: ',dic)"
      ],
      "execution_count": 2,
      "outputs": [
        {
          "output_type": "stream",
          "text": [
            "Original Dictionary:  {'Name': 'Salman', 'Department': 'CS'}\n",
            "After Update:  {'Name': 'Salman', 'Department': 'CS', 'Batch': '9th'}\n"
          ],
          "name": "stdout"
        }
      ]
    },
    {
      "cell_type": "code",
      "metadata": {
        "colab": {
          "base_uri": "https://localhost:8080/"
        },
        "id": "xZoZltNOp-J8",
        "outputId": "7efdb396-cc88-4339-c869-2f194bd723f3"
      },
      "source": [
        "# TASK 02\n",
        "\n",
        "x = lambda y : y + 15\n",
        "print(x(17))\n",
        "z = lambda a, b : a * b\n",
        "print(z(10, 3))"
      ],
      "execution_count": 3,
      "outputs": [
        {
          "output_type": "stream",
          "text": [
            "32\n",
            "30\n"
          ],
          "name": "stdout"
        }
      ]
    },
    {
      "cell_type": "code",
      "metadata": {
        "colab": {
          "base_uri": "https://localhost:8080/"
        },
        "id": "zQy9Afgpq8gb",
        "outputId": "9a47f442-e4c3-49be-8b50-cca472403c1b"
      },
      "source": [
        "# TASK 03\n",
        "\n",
        "l = [9,10,1,8]\n",
        "sum = 0\n",
        "for i in l:\n",
        "  sum+=i\n",
        "print('Sum of List elements is: ',sum)"
      ],
      "execution_count": 5,
      "outputs": [
        {
          "output_type": "stream",
          "text": [
            "Sum of List elements is:  28\n"
          ],
          "name": "stdout"
        }
      ]
    },
    {
      "cell_type": "code",
      "metadata": {
        "colab": {
          "base_uri": "https://localhost:8080/"
        },
        "id": "Jv9wBkDYrx-q",
        "outputId": "4eb0781d-d467-4f7b-f22b-86d518e25af5"
      },
      "source": [
        "# TASK 04\n",
        "\n",
        "# Method 01\n",
        "list1 = [1,3,9,2,6]\n",
        "print('Largest number in list1 is ',max(list1))\n",
        "\n",
        "# Method 02\n",
        "list2 = [10,11,4,14,2,1]\n",
        "m = list2[0]\n",
        "for i in list2:\n",
        "  if i > m:\n",
        "    m = i\n",
        "print('Largest number in list2 is ',m)"
      ],
      "execution_count": 9,
      "outputs": [
        {
          "output_type": "stream",
          "text": [
            "Largest number in list1 is  9\n",
            "Largest number in list2 is  14\n"
          ],
          "name": "stdout"
        }
      ]
    },
    {
      "cell_type": "code",
      "metadata": {
        "colab": {
          "base_uri": "https://localhost:8080/"
        },
        "id": "TeAQm155swtQ",
        "outputId": "11b77e6a-e527-46a3-f42e-084358590687"
      },
      "source": [
        "# Task 05\n",
        "\n",
        "t = (1,2,3,4,5)\n",
        "print('This is our tuple: ',t)"
      ],
      "execution_count": 10,
      "outputs": [
        {
          "output_type": "stream",
          "text": [
            "This is our tuple:  (1, 2, 3, 4, 5)\n"
          ],
          "name": "stdout"
        }
      ]
    },
    {
      "cell_type": "code",
      "metadata": {
        "colab": {
          "base_uri": "https://localhost:8080/"
        },
        "id": "ommFHz_YvRAI",
        "outputId": "a88d451d-e6bc-4f3f-be3f-99b6667ce7bd"
      },
      "source": [
        "# Task 06\n",
        "\n",
        "t2 = (10,5,6,2,1,'Salman','Haris')\n",
        "print(3 in t2)\n",
        "print('Salman' in t2)"
      ],
      "execution_count": 12,
      "outputs": [
        {
          "output_type": "stream",
          "text": [
            "False\n",
            "True\n"
          ],
          "name": "stdout"
        }
      ]
    }
  ]
}